{
 "cells": [
  {
   "cell_type": "code",
   "execution_count": 1,
   "metadata": {},
   "outputs": [],
   "source": [
    "import pandas as pd"
   ]
  },
  {
   "cell_type": "code",
   "execution_count": 2,
   "metadata": {},
   "outputs": [],
   "source": [
    "casp3   = '../casp3'\n",
    "actives = pd.read_csv(f'{casp3}/actives_final.ism',header=None,delim_whitespace=True,usecols=[2])\n",
    "decoys  = pd.read_csv(f'{casp3}/decoys_final.ism' ,header=None,delim_whitespace=True,usecols=[1])\n",
    "\n",
    "actives.columns=['id']\n",
    "actives['kind']=0\n",
    "\n",
    "decoys.columns=['id']\n",
    "decoys['kind']=1\n",
    "\n",
    "# Someone removed \"ZIN\" from \"ZINC\" at decoys_final.ism\n",
    "decoys['id']='ZIN'+decoys['id']"
   ]
  },
  {
   "cell_type": "code",
   "execution_count": 3,
   "metadata": {},
   "outputs": [],
   "source": [
    "d = {}\n",
    "\n",
    "# Read Qvina Scores\n",
    "d['qvina'] = pd.read_csv('qvina.csv.gz', compression='gzip')\n",
    "d['qvina'].columns=['id','pose','qvina']\n",
    "\n",
    "# Read rescores\n",
    "for SF in ['vina','smina','vinardo']:\n",
    "    d[SF] = pd.read_csv('rescore_' + SF + '.csv.gz', compression='gzip')\n",
    "    \n",
    "# Read RF-ScoreVS_v2 rescore\n",
    "d['RFScoreVS_v2'] = pd.read_csv('rescore_rfscore.csv.gz', compression='gzip')\n",
    "d['RFScoreVS_v2'].columns=['pose','id','RFScoreVS_v2']\n",
    "d['RFScoreVS_v2']['RFScoreVS_v2'] = -d['RFScoreVS_v2']['RFScoreVS_v2']"
   ]
  },
  {
   "cell_type": "code",
   "execution_count": 4,
   "metadata": {},
   "outputs": [],
   "source": [
    "# Concatenate all into \"data\"\n",
    "df   = pd.concat([actives, decoys])\n",
    "data = pd.merge(df, d['qvina'], on='id')\n",
    "for v in list(d.values())[1:]:\n",
    "    data = pd.merge(data, v, on=['id','pose'])"
   ]
  },
  {
   "cell_type": "code",
   "execution_count": 5,
   "metadata": {},
   "outputs": [
    {
     "data": {
      "text/html": [
       "<div>\n",
       "<style scoped>\n",
       "    .dataframe tbody tr th:only-of-type {\n",
       "        vertical-align: middle;\n",
       "    }\n",
       "\n",
       "    .dataframe tbody tr th {\n",
       "        vertical-align: top;\n",
       "    }\n",
       "\n",
       "    .dataframe thead th {\n",
       "        text-align: right;\n",
       "    }\n",
       "</style>\n",
       "<table border=\"1\" class=\"dataframe\">\n",
       "  <thead>\n",
       "    <tr style=\"text-align: right;\">\n",
       "      <th></th>\n",
       "      <th>id</th>\n",
       "      <th>kind</th>\n",
       "      <th>pose</th>\n",
       "      <th>qvina</th>\n",
       "      <th>vina</th>\n",
       "      <th>smina</th>\n",
       "      <th>vinardo</th>\n",
       "      <th>RFScoreVS_v2</th>\n",
       "    </tr>\n",
       "  </thead>\n",
       "  <tbody>\n",
       "    <tr>\n",
       "      <th>0</th>\n",
       "      <td>CHEMBL180669</td>\n",
       "      <td>0</td>\n",
       "      <td>1</td>\n",
       "      <td>-4.9</td>\n",
       "      <td>-4.87002</td>\n",
       "      <td>-5.38123</td>\n",
       "      <td>-6.44112</td>\n",
       "      <td>-6.007244</td>\n",
       "    </tr>\n",
       "    <tr>\n",
       "      <th>1</th>\n",
       "      <td>CHEMBL180669</td>\n",
       "      <td>0</td>\n",
       "      <td>2</td>\n",
       "      <td>-4.8</td>\n",
       "      <td>-5.02746</td>\n",
       "      <td>-5.64693</td>\n",
       "      <td>-7.07119</td>\n",
       "      <td>-6.046658</td>\n",
       "    </tr>\n",
       "    <tr>\n",
       "      <th>2</th>\n",
       "      <td>CHEMBL180669</td>\n",
       "      <td>0</td>\n",
       "      <td>3</td>\n",
       "      <td>-4.7</td>\n",
       "      <td>-4.44643</td>\n",
       "      <td>-4.92047</td>\n",
       "      <td>-5.57386</td>\n",
       "      <td>-5.983515</td>\n",
       "    </tr>\n",
       "    <tr>\n",
       "      <th>3</th>\n",
       "      <td>CHEMBL180669</td>\n",
       "      <td>0</td>\n",
       "      <td>4</td>\n",
       "      <td>-4.6</td>\n",
       "      <td>-4.93397</td>\n",
       "      <td>-5.66067</td>\n",
       "      <td>-6.72924</td>\n",
       "      <td>-6.076943</td>\n",
       "    </tr>\n",
       "    <tr>\n",
       "      <th>4</th>\n",
       "      <td>CHEMBL180669</td>\n",
       "      <td>0</td>\n",
       "      <td>5</td>\n",
       "      <td>-4.4</td>\n",
       "      <td>-4.65734</td>\n",
       "      <td>-5.55072</td>\n",
       "      <td>-5.69202</td>\n",
       "      <td>-5.985932</td>\n",
       "    </tr>\n",
       "    <tr>\n",
       "      <th>...</th>\n",
       "      <td>...</td>\n",
       "      <td>...</td>\n",
       "      <td>...</td>\n",
       "      <td>...</td>\n",
       "      <td>...</td>\n",
       "      <td>...</td>\n",
       "      <td>...</td>\n",
       "      <td>...</td>\n",
       "    </tr>\n",
       "    <tr>\n",
       "      <th>45537</th>\n",
       "      <td>ZINC65313129</td>\n",
       "      <td>1</td>\n",
       "      <td>6</td>\n",
       "      <td>-6.0</td>\n",
       "      <td>-6.38491</td>\n",
       "      <td>-6.48218</td>\n",
       "      <td>-5.55877</td>\n",
       "      <td>-5.965331</td>\n",
       "    </tr>\n",
       "    <tr>\n",
       "      <th>45538</th>\n",
       "      <td>ZINC65313129</td>\n",
       "      <td>1</td>\n",
       "      <td>7</td>\n",
       "      <td>-6.0</td>\n",
       "      <td>-6.21399</td>\n",
       "      <td>-6.86086</td>\n",
       "      <td>-5.55996</td>\n",
       "      <td>-5.954186</td>\n",
       "    </tr>\n",
       "    <tr>\n",
       "      <th>45539</th>\n",
       "      <td>ZINC65313129</td>\n",
       "      <td>1</td>\n",
       "      <td>8</td>\n",
       "      <td>-5.9</td>\n",
       "      <td>-5.97870</td>\n",
       "      <td>-6.53051</td>\n",
       "      <td>-5.25670</td>\n",
       "      <td>-5.961930</td>\n",
       "    </tr>\n",
       "    <tr>\n",
       "      <th>45540</th>\n",
       "      <td>ZINC65313129</td>\n",
       "      <td>1</td>\n",
       "      <td>9</td>\n",
       "      <td>-5.6</td>\n",
       "      <td>-5.66919</td>\n",
       "      <td>-5.70003</td>\n",
       "      <td>-5.32602</td>\n",
       "      <td>-5.953678</td>\n",
       "    </tr>\n",
       "    <tr>\n",
       "      <th>45541</th>\n",
       "      <td>ZINC65313129</td>\n",
       "      <td>1</td>\n",
       "      <td>10</td>\n",
       "      <td>-5.5</td>\n",
       "      <td>-5.68367</td>\n",
       "      <td>-5.70405</td>\n",
       "      <td>-6.72953</td>\n",
       "      <td>-5.956152</td>\n",
       "    </tr>\n",
       "  </tbody>\n",
       "</table>\n",
       "<p>45542 rows × 8 columns</p>\n",
       "</div>"
      ],
      "text/plain": [
       "                 id  kind  pose  qvina     vina    smina  vinardo  \\\n",
       "0      CHEMBL180669     0     1   -4.9 -4.87002 -5.38123 -6.44112   \n",
       "1      CHEMBL180669     0     2   -4.8 -5.02746 -5.64693 -7.07119   \n",
       "2      CHEMBL180669     0     3   -4.7 -4.44643 -4.92047 -5.57386   \n",
       "3      CHEMBL180669     0     4   -4.6 -4.93397 -5.66067 -6.72924   \n",
       "4      CHEMBL180669     0     5   -4.4 -4.65734 -5.55072 -5.69202   \n",
       "...             ...   ...   ...    ...      ...      ...      ...   \n",
       "45537  ZINC65313129     1     6   -6.0 -6.38491 -6.48218 -5.55877   \n",
       "45538  ZINC65313129     1     7   -6.0 -6.21399 -6.86086 -5.55996   \n",
       "45539  ZINC65313129     1     8   -5.9 -5.97870 -6.53051 -5.25670   \n",
       "45540  ZINC65313129     1     9   -5.6 -5.66919 -5.70003 -5.32602   \n",
       "45541  ZINC65313129     1    10   -5.5 -5.68367 -5.70405 -6.72953   \n",
       "\n",
       "       RFScoreVS_v2  \n",
       "0         -6.007244  \n",
       "1         -6.046658  \n",
       "2         -5.983515  \n",
       "3         -6.076943  \n",
       "4         -5.985932  \n",
       "...             ...  \n",
       "45537     -5.965331  \n",
       "45538     -5.954186  \n",
       "45539     -5.961930  \n",
       "45540     -5.953678  \n",
       "45541     -5.956152  \n",
       "\n",
       "[45542 rows x 8 columns]"
      ]
     },
     "execution_count": 5,
     "metadata": {},
     "output_type": "execute_result"
    }
   ],
   "source": [
    "data"
   ]
  },
  {
   "cell_type": "code",
   "execution_count": 6,
   "metadata": {},
   "outputs": [],
   "source": [
    "from sklearn.metrics import roc_curve, auc\n",
    "import matplotlib.pyplot as plt\n",
    "%matplotlib inline"
   ]
  },
  {
   "cell_type": "code",
   "execution_count": 7,
   "metadata": {},
   "outputs": [
    {
     "name": "stdout",
     "output_type": "stream",
     "text": [
      "[Scoring Function]: [AUC]\n",
      "qvina: 0.669829\n",
      "vina: 0.678156\n",
      "smina: 0.654035\n",
      "vinardo: 0.751204\n",
      "RFScoreVS_v2: 0.867317\n"
     ]
    },
    {
     "data": {
      "text/plain": [
       "<matplotlib.legend.Legend at 0x7f316b4efa10>"
      ]
     },
     "execution_count": 7,
     "metadata": {},
     "output_type": "execute_result"
    },
    {
     "data": {
      "image/png": "[encoded data removed]",
      "text/plain": [
       "<Figure size 360x360 with 1 Axes>"
      ]
     },
     "metadata": {
      "needs_background": "light"
     },
     "output_type": "display_data"
    }
   ],
   "source": [
    "print('[Scoring Function]: [AUC]')\n",
    "fig, ax = plt.subplots(figsize=(5,5))\n",
    "for SF in d.keys():\n",
    "    # 1st top pose according to each scoring function\n",
    "    df = data.sort_values(SF).groupby('id').head(1)\n",
    "    fpr, tpr, _ = roc_curve(df['kind'].to_numpy(), df[SF].to_numpy())\n",
    "    roc_auc = auc(fpr, tpr)\n",
    "    print(f'{SF}: {roc_auc:>.6f}')\n",
    "    ax.plot(fpr, tpr, label=f'{SF} = {roc_auc:>.2f}')\n",
    "\n",
    "# Plot a line\n",
    "ax.plot([0,1], [0,1], linestyle='--')\n",
    "\n",
    "# Some legends\n",
    "ax.set(xlim=[0.0,1.0], ylim=[0.0,1.05], xlabel='False Positive Rate', ylabel='True Positive Rate', title='Receiver Operating Characteristics')\n",
    "plt.legend(title='Scoring Function', loc='center left', bbox_to_anchor=(1.0, 0.5))"
   ]
  },
  {
   "cell_type": "code",
   "execution_count": null,
   "metadata": {},
   "outputs": [],
   "source": []
  }
 ],
 "metadata": {
  "kernelspec": {
   "display_name": "Python 3",
   "language": "python",
   "name": "python3"
  },
  "language_info": {
   "codemirror_mode": {
    "name": "ipython",
    "version": 3
   },
   "file_extension": ".py",
   "mimetype": "text/x-python",
   "name": "python",
   "nbconvert_exporter": "python",
   "pygments_lexer": "ipython3",
   "version": "3.7.6"
  }
 },
 "nbformat": 4,
 "nbformat_minor": 4
}
