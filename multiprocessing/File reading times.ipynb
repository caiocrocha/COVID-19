{
 "cells": [
  {
   "cell_type": "code",
   "execution_count": 1,
   "metadata": {},
   "outputs": [],
   "source": [
    "import os"
   ]
  },
  {
   "cell_type": "code",
   "execution_count": 2,
   "metadata": {},
   "outputs": [],
   "source": [
    "location = {'SSD': '/home/caio/Documentos/COVID-19/ZINC_38.chemflow',\n",
    "        'HDD': '/home/caio/secundario/ZINC_38.chemflow'}"
   ]
  },
  {
   "cell_type": "code",
   "execution_count": 3,
   "metadata": {},
   "outputs": [],
   "source": [
    "try:\n",
    "    max_proc = os.cpu_count()\n",
    "except:\n",
    "    max_proc = 1"
   ]
  },
  {
   "cell_type": "code",
   "execution_count": 4,
   "metadata": {},
   "outputs": [],
   "source": [
    "import math"
   ]
  },
  {
   "cell_type": "code",
   "execution_count": 5,
   "metadata": {},
   "outputs": [],
   "source": [
    "nsteps = int(math.log(max_proc, 2)) + 1 # geometric progression"
   ]
  },
  {
   "cell_type": "code",
   "execution_count": 6,
   "metadata": {},
   "outputs": [],
   "source": [
    "import subprocess"
   ]
  },
  {
   "cell_type": "code",
   "execution_count": 7,
   "metadata": {},
   "outputs": [],
   "source": [
    "def get_results(out):\n",
    "    fps_list = []    # files per second\n",
    "    t = ''    # time\n",
    "    out = out.split(b'\\r')\n",
    "    \n",
    "    for i in out:\n",
    "        afps = i.rfind(b',')\n",
    "        ifps = i.rfind(b'files/s')\n",
    "        if afps > -1 and ifps > -1:\n",
    "            fps = i[afps+1:ifps].decode('ascii').strip()\n",
    "            try:\n",
    "                fps = float(fps)\n",
    "                fps_list.append(fps)\n",
    "            except ValueError: \n",
    "                pass\n",
    "    try:\n",
    "        fps = sum(fps_list)/len(fps_list)\n",
    "    except ZeroDivisionError:\n",
    "        fps = 0\n",
    "\n",
    "    at = out[-2].rfind(b'[')\n",
    "    it = out[-2].rfind(b'<')\n",
    "    t = out[-2][at+1:it]\n",
    "    t = t.decode('ascii').strip()\n",
    "\n",
    "    return fps, t"
   ]
  },
  {
   "cell_type": "code",
   "execution_count": 8,
   "metadata": {},
   "outputs": [],
   "source": [
    "def get_results_list(nsteps, location):\n",
    "    results_list = []\n",
    "    ncores = 1\n",
    "    for i in range(nsteps):\n",
    "        for storage, path in location.items():\n",
    "            for read in ['Line', 'File']:\n",
    "                if read == 'Line':\n",
    "                    out = subprocess.run(f'python home/caio/COVID-19/DockFlow_base/DockFlow_collect_vina.py '\\\n",
    "                        f'--project {path} --protocol qvina --overwrite --ncores {ncores} --readline ', \n",
    "                        stdout=subprocess.PIPE, stderr=subprocess.STDOUT, shell=True).stdout\n",
    "                else:\n",
    "                    out = subprocess.run(f'python home/caio/COVID-19/DockFlow_base/DockFlow_collect_vina.py '\\\n",
    "                            f'--project {path} --protocol qvina --overwrite --ncores {ncores}', \n",
    "                            stdout=subprocess.PIPE, stderr=subprocess.STDOUT, shell=True).stdout\n",
    "\n",
    "                fps, t = get_results(out)\n",
    "                results_list.append({'Number of Cores': ncores, 'Storage': storage, \n",
    "                    'Read': read, 'Files/s': fps, 'Time': t})\n",
    "                \n",
    "        ncores = ncores*2\n",
    "    return results_list"
   ]
  },
  {
   "cell_type": "code",
   "execution_count": 9,
   "metadata": {},
   "outputs": [],
   "source": [
    "import pandas as pd"
   ]
  },
  {
   "cell_type": "code",
   "execution_count": 10,
   "metadata": {},
   "outputs": [],
   "source": [
    "results_list = get_results_list(nsteps, location)"
   ]
  },
  {
   "cell_type": "code",
   "execution_count": 10,
   "metadata": {},
   "outputs": [
    {
     "data": {
      "text/html": [
       "<div>\n",
       "<style scoped>\n",
       "    .dataframe tbody tr th:only-of-type {\n",
       "        vertical-align: middle;\n",
       "    }\n",
       "\n",
       "    .dataframe tbody tr th {\n",
       "        vertical-align: top;\n",
       "    }\n",
       "\n",
       "    .dataframe thead th {\n",
       "        text-align: right;\n",
       "    }\n",
       "</style>\n",
       "<table border=\"1\" class=\"dataframe\">\n",
       "  <thead>\n",
       "    <tr style=\"text-align: right;\">\n",
       "      <th></th>\n",
       "      <th>Number of Cores</th>\n",
       "      <th>Storage</th>\n",
       "      <th>Read</th>\n",
       "      <th>Files/s</th>\n",
       "      <th>Time</th>\n",
       "    </tr>\n",
       "  </thead>\n",
       "  <tbody>\n",
       "    <tr>\n",
       "      <th>0</th>\n",
       "      <td>1</td>\n",
       "      <td>SSD</td>\n",
       "      <td>Line</td>\n",
       "      <td>3371.871786</td>\n",
       "      <td>00:28</td>\n",
       "    </tr>\n",
       "    <tr>\n",
       "      <th>1</th>\n",
       "      <td>1</td>\n",
       "      <td>SSD</td>\n",
       "      <td>File</td>\n",
       "      <td>12196.930976</td>\n",
       "      <td>00:08</td>\n",
       "    </tr>\n",
       "    <tr>\n",
       "      <th>2</th>\n",
       "      <td>1</td>\n",
       "      <td>HDD</td>\n",
       "      <td>Line</td>\n",
       "      <td>38.650622</td>\n",
       "      <td>42:57</td>\n",
       "    </tr>\n",
       "    <tr>\n",
       "      <th>3</th>\n",
       "      <td>1</td>\n",
       "      <td>HDD</td>\n",
       "      <td>File</td>\n",
       "      <td>61.339661</td>\n",
       "      <td>27:05</td>\n",
       "    </tr>\n",
       "    <tr>\n",
       "      <th>4</th>\n",
       "      <td>2</td>\n",
       "      <td>SSD</td>\n",
       "      <td>Line</td>\n",
       "      <td>4378.176129</td>\n",
       "      <td>00:22</td>\n",
       "    </tr>\n",
       "    <tr>\n",
       "      <th>5</th>\n",
       "      <td>2</td>\n",
       "      <td>SSD</td>\n",
       "      <td>File</td>\n",
       "      <td>11040.622889</td>\n",
       "      <td>00:09</td>\n",
       "    </tr>\n",
       "    <tr>\n",
       "      <th>6</th>\n",
       "      <td>2</td>\n",
       "      <td>HDD</td>\n",
       "      <td>Line</td>\n",
       "      <td>63.217797</td>\n",
       "      <td>26:17</td>\n",
       "    </tr>\n",
       "    <tr>\n",
       "      <th>7</th>\n",
       "      <td>2</td>\n",
       "      <td>HDD</td>\n",
       "      <td>File</td>\n",
       "      <td>63.219389</td>\n",
       "      <td>26:16</td>\n",
       "    </tr>\n",
       "    <tr>\n",
       "      <th>8</th>\n",
       "      <td>4</td>\n",
       "      <td>SSD</td>\n",
       "      <td>Line</td>\n",
       "      <td>10626.850000</td>\n",
       "      <td>00:09</td>\n",
       "    </tr>\n",
       "    <tr>\n",
       "      <th>9</th>\n",
       "      <td>4</td>\n",
       "      <td>SSD</td>\n",
       "      <td>File</td>\n",
       "      <td>10629.791711</td>\n",
       "      <td>00:08</td>\n",
       "    </tr>\n",
       "    <tr>\n",
       "      <th>10</th>\n",
       "      <td>4</td>\n",
       "      <td>HDD</td>\n",
       "      <td>Line</td>\n",
       "      <td>70.842462</td>\n",
       "      <td>22:12</td>\n",
       "    </tr>\n",
       "    <tr>\n",
       "      <th>11</th>\n",
       "      <td>4</td>\n",
       "      <td>HDD</td>\n",
       "      <td>File</td>\n",
       "      <td>173.075001</td>\n",
       "      <td>08:22</td>\n",
       "    </tr>\n",
       "  </tbody>\n",
       "</table>\n",
       "</div>"
      ],
      "text/plain": [
       "    Number of Cores Storage  Read       Files/s   Time\n",
       "0                 1     SSD  Line   3371.871786  00:28\n",
       "1                 1     SSD  File  12196.930976  00:08\n",
       "2                 1     HDD  Line     38.650622  42:57\n",
       "3                 1     HDD  File     61.339661  27:05\n",
       "4                 2     SSD  Line   4378.176129  00:22\n",
       "5                 2     SSD  File  11040.622889  00:09\n",
       "6                 2     HDD  Line     63.217797  26:17\n",
       "7                 2     HDD  File     63.219389  26:16\n",
       "8                 4     SSD  Line  10626.850000  00:09\n",
       "9                 4     SSD  File  10629.791711  00:08\n",
       "10                4     HDD  Line     70.842462  22:12\n",
       "11                4     HDD  File    173.075001  08:22"
      ]
     },
     "execution_count": 10,
     "metadata": {},
     "output_type": "execute_result"
    }
   ],
   "source": [
    "# df = pd.DataFrame(results_list)\n",
    "df = pd.read_csv('times-pcollect_vina.csv')\n",
    "df"
   ]
  },
  {
   "cell_type": "code",
   "execution_count": 12,
   "metadata": {},
   "outputs": [],
   "source": [
    "df.to_csv('times-pcollect_vina.csv',index=False)"
   ]
  },
  {
   "cell_type": "code",
   "execution_count": 4,
   "metadata": {},
   "outputs": [],
   "source": [
    "import seaborn as sns"
   ]
  },
  {
   "cell_type": "code",
   "execution_count": 5,
   "metadata": {},
   "outputs": [
    {
     "data": {
      "text/plain": [
       "<seaborn.axisgrid.FacetGrid at 0x7fa1ddff14d0>"
      ]
     },
     "execution_count": 5,
     "metadata": {},
     "output_type": "execute_result"
    },
    {
     "data": {
      "image/png": "[encoded data removed]",
      "text/plain": [
       "<Figure size 776.875x360 with 2 Axes>"
      ]
     },
     "metadata": {
      "needs_background": "light"
     },
     "output_type": "display_data"
    }
   ],
   "source": [
    "sns.catplot(data=df,x='Number of Cores',y='Files/s',col='Storage',hue='Read',kind='point')"
   ]
  },
  {
   "cell_type": "code",
   "execution_count": 21,
   "metadata": {},
   "outputs": [],
   "source": [
    "df['Time in seconds'] = df['Time'].apply(lambda x: int(x[:2]) * 60 + int(x[3:]))"
   ]
  },
  {
   "cell_type": "code",
   "execution_count": 22,
   "metadata": {},
   "outputs": [
    {
     "data": {
      "text/html": [
       "<div>\n",
       "<style scoped>\n",
       "    .dataframe tbody tr th:only-of-type {\n",
       "        vertical-align: middle;\n",
       "    }\n",
       "\n",
       "    .dataframe tbody tr th {\n",
       "        vertical-align: top;\n",
       "    }\n",
       "\n",
       "    .dataframe thead th {\n",
       "        text-align: right;\n",
       "    }\n",
       "</style>\n",
       "<table border=\"1\" class=\"dataframe\">\n",
       "  <thead>\n",
       "    <tr style=\"text-align: right;\">\n",
       "      <th></th>\n",
       "      <th>Number of Cores</th>\n",
       "      <th>Storage</th>\n",
       "      <th>Read</th>\n",
       "      <th>Files/s</th>\n",
       "      <th>Time</th>\n",
       "      <th>Time in seconds</th>\n",
       "    </tr>\n",
       "  </thead>\n",
       "  <tbody>\n",
       "    <tr>\n",
       "      <th>0</th>\n",
       "      <td>1</td>\n",
       "      <td>SSD</td>\n",
       "      <td>Line</td>\n",
       "      <td>3371.871786</td>\n",
       "      <td>00:28</td>\n",
       "      <td>28</td>\n",
       "    </tr>\n",
       "    <tr>\n",
       "      <th>1</th>\n",
       "      <td>1</td>\n",
       "      <td>SSD</td>\n",
       "      <td>File</td>\n",
       "      <td>12196.930976</td>\n",
       "      <td>00:08</td>\n",
       "      <td>8</td>\n",
       "    </tr>\n",
       "    <tr>\n",
       "      <th>2</th>\n",
       "      <td>1</td>\n",
       "      <td>HDD</td>\n",
       "      <td>Line</td>\n",
       "      <td>38.650622</td>\n",
       "      <td>42:57</td>\n",
       "      <td>2577</td>\n",
       "    </tr>\n",
       "    <tr>\n",
       "      <th>3</th>\n",
       "      <td>1</td>\n",
       "      <td>HDD</td>\n",
       "      <td>File</td>\n",
       "      <td>61.339661</td>\n",
       "      <td>27:05</td>\n",
       "      <td>1625</td>\n",
       "    </tr>\n",
       "    <tr>\n",
       "      <th>4</th>\n",
       "      <td>2</td>\n",
       "      <td>SSD</td>\n",
       "      <td>Line</td>\n",
       "      <td>4378.176129</td>\n",
       "      <td>00:22</td>\n",
       "      <td>22</td>\n",
       "    </tr>\n",
       "    <tr>\n",
       "      <th>5</th>\n",
       "      <td>2</td>\n",
       "      <td>SSD</td>\n",
       "      <td>File</td>\n",
       "      <td>11040.622889</td>\n",
       "      <td>00:09</td>\n",
       "      <td>9</td>\n",
       "    </tr>\n",
       "    <tr>\n",
       "      <th>6</th>\n",
       "      <td>2</td>\n",
       "      <td>HDD</td>\n",
       "      <td>Line</td>\n",
       "      <td>63.217797</td>\n",
       "      <td>26:17</td>\n",
       "      <td>1577</td>\n",
       "    </tr>\n",
       "    <tr>\n",
       "      <th>7</th>\n",
       "      <td>2</td>\n",
       "      <td>HDD</td>\n",
       "      <td>File</td>\n",
       "      <td>63.219389</td>\n",
       "      <td>26:16</td>\n",
       "      <td>1576</td>\n",
       "    </tr>\n",
       "    <tr>\n",
       "      <th>8</th>\n",
       "      <td>4</td>\n",
       "      <td>SSD</td>\n",
       "      <td>Line</td>\n",
       "      <td>10626.850000</td>\n",
       "      <td>00:09</td>\n",
       "      <td>9</td>\n",
       "    </tr>\n",
       "    <tr>\n",
       "      <th>9</th>\n",
       "      <td>4</td>\n",
       "      <td>SSD</td>\n",
       "      <td>File</td>\n",
       "      <td>10629.791711</td>\n",
       "      <td>00:08</td>\n",
       "      <td>8</td>\n",
       "    </tr>\n",
       "    <tr>\n",
       "      <th>10</th>\n",
       "      <td>4</td>\n",
       "      <td>HDD</td>\n",
       "      <td>Line</td>\n",
       "      <td>70.842462</td>\n",
       "      <td>22:12</td>\n",
       "      <td>1332</td>\n",
       "    </tr>\n",
       "    <tr>\n",
       "      <th>11</th>\n",
       "      <td>4</td>\n",
       "      <td>HDD</td>\n",
       "      <td>File</td>\n",
       "      <td>173.075001</td>\n",
       "      <td>08:22</td>\n",
       "      <td>502</td>\n",
       "    </tr>\n",
       "  </tbody>\n",
       "</table>\n",
       "</div>"
      ],
      "text/plain": [
       "    Number of Cores Storage  Read       Files/s   Time  Time in seconds\n",
       "0                 1     SSD  Line   3371.871786  00:28               28\n",
       "1                 1     SSD  File  12196.930976  00:08                8\n",
       "2                 1     HDD  Line     38.650622  42:57             2577\n",
       "3                 1     HDD  File     61.339661  27:05             1625\n",
       "4                 2     SSD  Line   4378.176129  00:22               22\n",
       "5                 2     SSD  File  11040.622889  00:09                9\n",
       "6                 2     HDD  Line     63.217797  26:17             1577\n",
       "7                 2     HDD  File     63.219389  26:16             1576\n",
       "8                 4     SSD  Line  10626.850000  00:09                9\n",
       "9                 4     SSD  File  10629.791711  00:08                8\n",
       "10                4     HDD  Line     70.842462  22:12             1332\n",
       "11                4     HDD  File    173.075001  08:22              502"
      ]
     },
     "execution_count": 22,
     "metadata": {},
     "output_type": "execute_result"
    }
   ],
   "source": [
    "df"
   ]
  },
  {
   "cell_type": "code",
   "execution_count": 23,
   "metadata": {},
   "outputs": [
    {
     "data": {
      "text/plain": [
       "<seaborn.axisgrid.FacetGrid at 0x7fa1dd2d5a50>"
      ]
     },
     "execution_count": 23,
     "metadata": {},
     "output_type": "execute_result"
    },
    {
     "data": {
      "image/png": "[encoded data removed]",
      "text/plain": [
       "<Figure size 776.875x360 with 2 Axes>"
      ]
     },
     "metadata": {
      "needs_background": "light"
     },
     "output_type": "display_data"
    }
   ],
   "source": [
    "sns.catplot(data=df,x='Number of Cores',y='Time in seconds',col='Storage',hue='Read',kind='point')"
   ]
  },
  {
   "cell_type": "code",
   "execution_count": null,
   "metadata": {},
   "outputs": [],
   "source": []
  }
 ],
 "metadata": {
  "kernelspec": {
   "display_name": "Python 3",
   "language": "python",
   "name": "python3"
  },
  "language_info": {
   "codemirror_mode": {
    "name": "ipython",
    "version": 3
   },
   "file_extension": ".py",
   "mimetype": "text/x-python",
   "name": "python",
   "nbconvert_exporter": "python",
   "pygments_lexer": "ipython3",
   "version": "3.7.6"
  }
 },
 "nbformat": 4,
 "nbformat_minor": 4
}
