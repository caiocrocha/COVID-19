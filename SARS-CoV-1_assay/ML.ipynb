{
 "cells": [
  {
   "cell_type": "code",
   "execution_count": 1,
   "metadata": {},
   "outputs": [],
   "source": [
    "import pandas as pd\n",
    "import numpy as np\n",
    "import seaborn as sns\n",
    "import matplotlib.pyplot as plt\n",
    "%matplotlib inline"
   ]
  },
  {
   "cell_type": "markdown",
   "metadata": {},
   "source": [
    "# Read data"
   ]
  },
  {
   "cell_type": "code",
   "execution_count": 2,
   "metadata": {},
   "outputs": [],
   "source": [
    "bioassay = pd.read_csv('AID_1706_datatable_all.csv.gz',compression='gzip',skiprows=range(1,5))"
   ]
  },
  {
   "cell_type": "code",
   "execution_count": 3,
   "metadata": {},
   "outputs": [
    {
     "data": {
      "text/html": [
       "<div>\n",
       "<style scoped>\n",
       "    .dataframe tbody tr th:only-of-type {\n",
       "        vertical-align: middle;\n",
       "    }\n",
       "\n",
       "    .dataframe tbody tr th {\n",
       "        vertical-align: top;\n",
       "    }\n",
       "\n",
       "    .dataframe thead th {\n",
       "        text-align: right;\n",
       "    }\n",
       "</style>\n",
       "<table border=\"1\" class=\"dataframe\">\n",
       "  <thead>\n",
       "    <tr style=\"text-align: right;\">\n",
       "      <th></th>\n",
       "      <th>PUBCHEM_RESULT_TAG</th>\n",
       "      <th>PUBCHEM_SID</th>\n",
       "      <th>PUBCHEM_CID</th>\n",
       "      <th>PUBCHEM_ACTIVITY_OUTCOME</th>\n",
       "      <th>PUBCHEM_ACTIVITY_SCORE</th>\n",
       "      <th>PUBCHEM_ACTIVITY_URL</th>\n",
       "      <th>PUBCHEM_ASSAYDATA_COMMENT</th>\n",
       "      <th>Inhibition</th>\n",
       "    </tr>\n",
       "  </thead>\n",
       "  <tbody>\n",
       "    <tr>\n",
       "      <th>0</th>\n",
       "      <td>1</td>\n",
       "      <td>842121</td>\n",
       "      <td>6603008</td>\n",
       "      <td>Inactive</td>\n",
       "      <td>0</td>\n",
       "      <td>NaN</td>\n",
       "      <td>NaN</td>\n",
       "      <td>-1.55</td>\n",
       "    </tr>\n",
       "    <tr>\n",
       "      <th>1</th>\n",
       "      <td>2</td>\n",
       "      <td>842122</td>\n",
       "      <td>6602571</td>\n",
       "      <td>Inactive</td>\n",
       "      <td>2</td>\n",
       "      <td>NaN</td>\n",
       "      <td>NaN</td>\n",
       "      <td>1.83</td>\n",
       "    </tr>\n",
       "    <tr>\n",
       "      <th>2</th>\n",
       "      <td>3</td>\n",
       "      <td>842123</td>\n",
       "      <td>6602616</td>\n",
       "      <td>Inactive</td>\n",
       "      <td>0</td>\n",
       "      <td>NaN</td>\n",
       "      <td>NaN</td>\n",
       "      <td>-3.07</td>\n",
       "    </tr>\n",
       "    <tr>\n",
       "      <th>3</th>\n",
       "      <td>4</td>\n",
       "      <td>842124</td>\n",
       "      <td>644371</td>\n",
       "      <td>Inactive</td>\n",
       "      <td>0</td>\n",
       "      <td>NaN</td>\n",
       "      <td>NaN</td>\n",
       "      <td>-1.06</td>\n",
       "    </tr>\n",
       "    <tr>\n",
       "      <th>4</th>\n",
       "      <td>5</td>\n",
       "      <td>842125</td>\n",
       "      <td>6603132</td>\n",
       "      <td>Inactive</td>\n",
       "      <td>0</td>\n",
       "      <td>NaN</td>\n",
       "      <td>NaN</td>\n",
       "      <td>0.35</td>\n",
       "    </tr>\n",
       "    <tr>\n",
       "      <th>...</th>\n",
       "      <td>...</td>\n",
       "      <td>...</td>\n",
       "      <td>...</td>\n",
       "      <td>...</td>\n",
       "      <td>...</td>\n",
       "      <td>...</td>\n",
       "      <td>...</td>\n",
       "      <td>...</td>\n",
       "    </tr>\n",
       "    <tr>\n",
       "      <th>290888</th>\n",
       "      <td>290889</td>\n",
       "      <td>51090805</td>\n",
       "      <td>24892704</td>\n",
       "      <td>Inactive</td>\n",
       "      <td>3</td>\n",
       "      <td>NaN</td>\n",
       "      <td>NaN</td>\n",
       "      <td>3.10</td>\n",
       "    </tr>\n",
       "    <tr>\n",
       "      <th>290889</th>\n",
       "      <td>290890</td>\n",
       "      <td>51090809</td>\n",
       "      <td>24892705</td>\n",
       "      <td>Inactive</td>\n",
       "      <td>5</td>\n",
       "      <td>NaN</td>\n",
       "      <td>NaN</td>\n",
       "      <td>4.06</td>\n",
       "    </tr>\n",
       "    <tr>\n",
       "      <th>290890</th>\n",
       "      <td>290891</td>\n",
       "      <td>51090810</td>\n",
       "      <td>18554311</td>\n",
       "      <td>Inactive</td>\n",
       "      <td>0</td>\n",
       "      <td>NaN</td>\n",
       "      <td>NaN</td>\n",
       "      <td>0.33</td>\n",
       "    </tr>\n",
       "    <tr>\n",
       "      <th>290891</th>\n",
       "      <td>290892</td>\n",
       "      <td>51090820</td>\n",
       "      <td>7192900</td>\n",
       "      <td>Inactive</td>\n",
       "      <td>0</td>\n",
       "      <td>NaN</td>\n",
       "      <td>NaN</td>\n",
       "      <td>-2.17</td>\n",
       "    </tr>\n",
       "    <tr>\n",
       "      <th>290892</th>\n",
       "      <td>290893</td>\n",
       "      <td>51090821</td>\n",
       "      <td>8484019</td>\n",
       "      <td>Inactive</td>\n",
       "      <td>0</td>\n",
       "      <td>NaN</td>\n",
       "      <td>NaN</td>\n",
       "      <td>0.19</td>\n",
       "    </tr>\n",
       "  </tbody>\n",
       "</table>\n",
       "<p>290893 rows × 8 columns</p>\n",
       "</div>"
      ],
      "text/plain": [
       "        PUBCHEM_RESULT_TAG  PUBCHEM_SID  PUBCHEM_CID PUBCHEM_ACTIVITY_OUTCOME  \\\n",
       "0                        1       842121      6603008                 Inactive   \n",
       "1                        2       842122      6602571                 Inactive   \n",
       "2                        3       842123      6602616                 Inactive   \n",
       "3                        4       842124       644371                 Inactive   \n",
       "4                        5       842125      6603132                 Inactive   \n",
       "...                    ...          ...          ...                      ...   \n",
       "290888              290889     51090805     24892704                 Inactive   \n",
       "290889              290890     51090809     24892705                 Inactive   \n",
       "290890              290891     51090810     18554311                 Inactive   \n",
       "290891              290892     51090820      7192900                 Inactive   \n",
       "290892              290893     51090821      8484019                 Inactive   \n",
       "\n",
       "        PUBCHEM_ACTIVITY_SCORE  PUBCHEM_ACTIVITY_URL  \\\n",
       "0                            0                   NaN   \n",
       "1                            2                   NaN   \n",
       "2                            0                   NaN   \n",
       "3                            0                   NaN   \n",
       "4                            0                   NaN   \n",
       "...                        ...                   ...   \n",
       "290888                       3                   NaN   \n",
       "290889                       5                   NaN   \n",
       "290890                       0                   NaN   \n",
       "290891                       0                   NaN   \n",
       "290892                       0                   NaN   \n",
       "\n",
       "        PUBCHEM_ASSAYDATA_COMMENT  Inhibition  \n",
       "0                             NaN       -1.55  \n",
       "1                             NaN        1.83  \n",
       "2                             NaN       -3.07  \n",
       "3                             NaN       -1.06  \n",
       "4                             NaN        0.35  \n",
       "...                           ...         ...  \n",
       "290888                        NaN        3.10  \n",
       "290889                        NaN        4.06  \n",
       "290890                        NaN        0.33  \n",
       "290891                        NaN       -2.17  \n",
       "290892                        NaN        0.19  \n",
       "\n",
       "[290893 rows x 8 columns]"
      ]
     },
     "execution_count": 3,
     "metadata": {},
     "output_type": "execute_result"
    }
   ],
   "source": [
    "bioassay"
   ]
  },
  {
   "cell_type": "code",
   "execution_count": 4,
   "metadata": {},
   "outputs": [],
   "source": [
    "scores = pd.read_csv('DockFlow_vina.csv.gz',compression='gzip')\n",
    "scores.sort_values(['id','vina_score'], inplace=True) # make sure that the compounds are ordered\n",
    "for SF in ['smina']:\n",
    "    df = pd.read_csv(f'ScoreFlow_{SF}.csv.gz',compression='gzip')\n",
    "    df.sort_values(['id', SF+'_score'], inplace=True) # make sure that the compounds are ordered\n",
    "    scores = pd.merge(scores,df,on=['id','pose'])"
   ]
  },
  {
   "cell_type": "code",
   "execution_count": 5,
   "metadata": {},
   "outputs": [],
   "source": [
    "scores.rename({'id': 'PUBCHEM_SID'}, axis='columns', inplace=True)"
   ]
  },
  {
   "cell_type": "code",
   "execution_count": 6,
   "metadata": {},
   "outputs": [
    {
     "data": {
      "text/html": [
       "<div>\n",
       "<style scoped>\n",
       "    .dataframe tbody tr th:only-of-type {\n",
       "        vertical-align: middle;\n",
       "    }\n",
       "\n",
       "    .dataframe tbody tr th {\n",
       "        vertical-align: top;\n",
       "    }\n",
       "\n",
       "    .dataframe thead th {\n",
       "        text-align: right;\n",
       "    }\n",
       "</style>\n",
       "<table border=\"1\" class=\"dataframe\">\n",
       "  <thead>\n",
       "    <tr style=\"text-align: right;\">\n",
       "      <th></th>\n",
       "      <th>PUBCHEM_SID</th>\n",
       "      <th>PUBCHEM_ACTIVITY_OUTCOME</th>\n",
       "      <th>Inhibition</th>\n",
       "      <th>pose</th>\n",
       "      <th>vina_score</th>\n",
       "      <th>smina_score</th>\n",
       "    </tr>\n",
       "  </thead>\n",
       "  <tbody>\n",
       "    <tr>\n",
       "      <th>0</th>\n",
       "      <td>842134</td>\n",
       "      <td>Inactive</td>\n",
       "      <td>0.41</td>\n",
       "      <td>1</td>\n",
       "      <td>-6.5</td>\n",
       "      <td>-6.68219</td>\n",
       "    </tr>\n",
       "    <tr>\n",
       "      <th>1</th>\n",
       "      <td>842134</td>\n",
       "      <td>Inactive</td>\n",
       "      <td>0.41</td>\n",
       "      <td>2</td>\n",
       "      <td>-6.3</td>\n",
       "      <td>-6.33347</td>\n",
       "    </tr>\n",
       "    <tr>\n",
       "      <th>2</th>\n",
       "      <td>842134</td>\n",
       "      <td>Inactive</td>\n",
       "      <td>0.41</td>\n",
       "      <td>3</td>\n",
       "      <td>-6.3</td>\n",
       "      <td>-6.63991</td>\n",
       "    </tr>\n",
       "    <tr>\n",
       "      <th>3</th>\n",
       "      <td>842134</td>\n",
       "      <td>Inactive</td>\n",
       "      <td>0.41</td>\n",
       "      <td>4</td>\n",
       "      <td>-6.1</td>\n",
       "      <td>-6.69704</td>\n",
       "    </tr>\n",
       "    <tr>\n",
       "      <th>4</th>\n",
       "      <td>842134</td>\n",
       "      <td>Inactive</td>\n",
       "      <td>0.41</td>\n",
       "      <td>5</td>\n",
       "      <td>-6.1</td>\n",
       "      <td>-6.39755</td>\n",
       "    </tr>\n",
       "    <tr>\n",
       "      <th>...</th>\n",
       "      <td>...</td>\n",
       "      <td>...</td>\n",
       "      <td>...</td>\n",
       "      <td>...</td>\n",
       "      <td>...</td>\n",
       "      <td>...</td>\n",
       "    </tr>\n",
       "    <tr>\n",
       "      <th>2723367</th>\n",
       "      <td>51090821</td>\n",
       "      <td>Inactive</td>\n",
       "      <td>0.19</td>\n",
       "      <td>6</td>\n",
       "      <td>-5.9</td>\n",
       "      <td>-6.36111</td>\n",
       "    </tr>\n",
       "    <tr>\n",
       "      <th>2723368</th>\n",
       "      <td>51090821</td>\n",
       "      <td>Inactive</td>\n",
       "      <td>0.19</td>\n",
       "      <td>7</td>\n",
       "      <td>-5.7</td>\n",
       "      <td>-5.84297</td>\n",
       "    </tr>\n",
       "    <tr>\n",
       "      <th>2723369</th>\n",
       "      <td>51090821</td>\n",
       "      <td>Inactive</td>\n",
       "      <td>0.19</td>\n",
       "      <td>8</td>\n",
       "      <td>-5.4</td>\n",
       "      <td>-5.63190</td>\n",
       "    </tr>\n",
       "    <tr>\n",
       "      <th>2723370</th>\n",
       "      <td>51090821</td>\n",
       "      <td>Inactive</td>\n",
       "      <td>0.19</td>\n",
       "      <td>9</td>\n",
       "      <td>-5.3</td>\n",
       "      <td>-5.37468</td>\n",
       "    </tr>\n",
       "    <tr>\n",
       "      <th>2723371</th>\n",
       "      <td>51090821</td>\n",
       "      <td>Inactive</td>\n",
       "      <td>0.19</td>\n",
       "      <td>10</td>\n",
       "      <td>-5.3</td>\n",
       "      <td>-5.73157</td>\n",
       "    </tr>\n",
       "  </tbody>\n",
       "</table>\n",
       "<p>2723372 rows × 6 columns</p>\n",
       "</div>"
      ],
      "text/plain": [
       "         PUBCHEM_SID PUBCHEM_ACTIVITY_OUTCOME  Inhibition  pose  vina_score  \\\n",
       "0             842134                 Inactive        0.41     1        -6.5   \n",
       "1             842134                 Inactive        0.41     2        -6.3   \n",
       "2             842134                 Inactive        0.41     3        -6.3   \n",
       "3             842134                 Inactive        0.41     4        -6.1   \n",
       "4             842134                 Inactive        0.41     5        -6.1   \n",
       "...              ...                      ...         ...   ...         ...   \n",
       "2723367     51090821                 Inactive        0.19     6        -5.9   \n",
       "2723368     51090821                 Inactive        0.19     7        -5.7   \n",
       "2723369     51090821                 Inactive        0.19     8        -5.4   \n",
       "2723370     51090821                 Inactive        0.19     9        -5.3   \n",
       "2723371     51090821                 Inactive        0.19    10        -5.3   \n",
       "\n",
       "         smina_score  \n",
       "0           -6.68219  \n",
       "1           -6.33347  \n",
       "2           -6.63991  \n",
       "3           -6.69704  \n",
       "4           -6.39755  \n",
       "...              ...  \n",
       "2723367     -6.36111  \n",
       "2723368     -5.84297  \n",
       "2723369     -5.63190  \n",
       "2723370     -5.37468  \n",
       "2723371     -5.73157  \n",
       "\n",
       "[2723372 rows x 6 columns]"
      ]
     },
     "execution_count": 6,
     "metadata": {},
     "output_type": "execute_result"
    }
   ],
   "source": [
    "# Merge what really matters.\n",
    "data = pd.merge(bioassay[['PUBCHEM_SID','PUBCHEM_ACTIVITY_OUTCOME','Inhibition']], scores)\n",
    "data"
   ]
  },
  {
   "cell_type": "code",
   "execution_count": 7,
   "metadata": {},
   "outputs": [],
   "source": [
    "top = data.query('pose == 1')"
   ]
  },
  {
   "cell_type": "code",
   "execution_count": 8,
   "metadata": {},
   "outputs": [],
   "source": [
    "from sklearn.model_selection import train_test_split \n",
    "from sklearn import metrics"
   ]
  },
  {
   "cell_type": "code",
   "execution_count": 9,
   "metadata": {},
   "outputs": [],
   "source": [
    "X = top[['vina_score','smina_score']].values\n",
    "y = pd.Categorical(top['PUBCHEM_ACTIVITY_OUTCOME']).codes # 1 para inativo, 0 para ativo"
   ]
  },
  {
   "cell_type": "code",
   "execution_count": 10,
   "metadata": {},
   "outputs": [],
   "source": [
    "X_train, X_test, y_train, y_test = train_test_split(X, y, test_size=0.25, random_state=27)"
   ]
  },
  {
   "cell_type": "markdown",
   "metadata": {},
   "source": [
    "# Dummy classifier"
   ]
  },
  {
   "cell_type": "code",
   "execution_count": 11,
   "metadata": {},
   "outputs": [],
   "source": [
    "from sklearn.dummy import DummyClassifier"
   ]
  },
  {
   "cell_type": "code",
   "execution_count": 12,
   "metadata": {},
   "outputs": [],
   "source": [
    "dummy = DummyClassifier(strategy='most_frequent').fit(X_train, y_train)\n",
    "dummy_pred = dummy.predict(X_test)"
   ]
  },
  {
   "cell_type": "code",
   "execution_count": 13,
   "metadata": {},
   "outputs": [
    {
     "name": "stdout",
     "output_type": "stream",
     "text": [
      "Unique predicted labels:  [1]\n",
      "Test score:  0.9985315280918676\n"
     ]
    }
   ],
   "source": [
    "# checking unique labels\n",
    "print('Unique predicted labels: ', (np.unique(dummy_pred)))\n",
    "\n",
    "# checking accuracy\n",
    "print('Test score: ', metrics.accuracy_score(y_test, dummy_pred))"
   ]
  },
  {
   "cell_type": "code",
   "execution_count": 14,
   "metadata": {},
   "outputs": [],
   "source": [
    "def print_metrics(y_test, y_pred):\n",
    "    print(f'accuracy_score: {metrics.accuracy_score(y_test, y_pred)}')\n",
    "    print(f'f1_score: {metrics.f1_score(y_test, y_pred)}')\n",
    "    print(f'recall_score: {metrics.recall_score(y_test, y_pred)}')"
   ]
  },
  {
   "cell_type": "markdown",
   "metadata": {},
   "source": [
    "# Logistic regression"
   ]
  },
  {
   "cell_type": "code",
   "execution_count": 15,
   "metadata": {},
   "outputs": [],
   "source": [
    "from sklearn.linear_model import LogisticRegression"
   ]
  },
  {
   "cell_type": "code",
   "execution_count": 16,
   "metadata": {},
   "outputs": [],
   "source": [
    "lr = LogisticRegression(solver='liblinear').fit(X_train, y_train)"
   ]
  },
  {
   "cell_type": "code",
   "execution_count": 17,
   "metadata": {},
   "outputs": [],
   "source": [
    "lr_pred = lr.predict(X_test)"
   ]
  },
  {
   "cell_type": "code",
   "execution_count": 18,
   "metadata": {},
   "outputs": [
    {
     "data": {
      "text/plain": [
       "1    68098\n",
       "Name: 0, dtype: int64"
      ]
     },
     "execution_count": 18,
     "metadata": {},
     "output_type": "execute_result"
    }
   ],
   "source": [
    "predictions = pd.DataFrame(lr_pred)\n",
    "predictions[0].value_counts()"
   ]
  },
  {
   "cell_type": "code",
   "execution_count": 19,
   "metadata": {},
   "outputs": [
    {
     "name": "stdout",
     "output_type": "stream",
     "text": [
      "accuracy_score: 0.9985315280918676\n",
      "f1_score: 0.9992652245473783\n",
      "recall_score: 1.0\n"
     ]
    }
   ],
   "source": [
    "print_metrics(y_test, lr_pred)"
   ]
  },
  {
   "cell_type": "markdown",
   "metadata": {},
   "source": [
    "# Random forest"
   ]
  },
  {
   "cell_type": "code",
   "execution_count": 20,
   "metadata": {},
   "outputs": [],
   "source": [
    "from sklearn.ensemble import RandomForestClassifier"
   ]
  },
  {
   "cell_type": "code",
   "execution_count": 21,
   "metadata": {},
   "outputs": [],
   "source": [
    "rfc = RandomForestClassifier(n_estimators=10).fit(X_train, y_train)"
   ]
  },
  {
   "cell_type": "code",
   "execution_count": 22,
   "metadata": {},
   "outputs": [],
   "source": [
    "rfc_pred = rfc.predict(X_test)"
   ]
  },
  {
   "cell_type": "code",
   "execution_count": 23,
   "metadata": {},
   "outputs": [
    {
     "name": "stdout",
     "output_type": "stream",
     "text": [
      "accuracy_score: 0.9976210755088255\n",
      "f1_score: 0.9988091212490995\n",
      "recall_score: 0.9990882084767199\n"
     ]
    }
   ],
   "source": [
    "print_metrics(y_test, rfc_pred)"
   ]
  },
  {
   "cell_type": "code",
   "execution_count": 24,
   "metadata": {},
   "outputs": [],
   "source": [
    "def predict(resampled):\n",
    "    y_train = resampled['PUBCHEM_ACTIVITY_OUTCOME']\n",
    "    X_train = resampled.drop('PUBCHEM_ACTIVITY_OUTCOME', axis=1)\n",
    "    \n",
    "    resampled = LogisticRegression(solver='liblinear').fit(X_train, y_train)\n",
    "    resampled_pred = resampled.predict(X_test)\n",
    "    \n",
    "    return resampled_pred"
   ]
  },
  {
   "cell_type": "markdown",
   "metadata": {},
   "source": [
    "# Oversample minority class"
   ]
  },
  {
   "cell_type": "code",
   "execution_count": 25,
   "metadata": {},
   "outputs": [],
   "source": [
    "from sklearn.utils import resample"
   ]
  },
  {
   "cell_type": "code",
   "execution_count": 26,
   "metadata": {},
   "outputs": [],
   "source": [
    "X = pd.concat([pd.DataFrame(X_train, columns=['vina_score','smina_score']), pd.Series(y_train, name='PUBCHEM_ACTIVITY_OUTCOME')], axis=1)"
   ]
  },
  {
   "cell_type": "code",
   "execution_count": 27,
   "metadata": {},
   "outputs": [],
   "source": [
    "inactive = X.query('PUBCHEM_ACTIVITY_OUTCOME == 1')\n",
    "active = X.query('PUBCHEM_ACTIVITY_OUTCOME == 0')"
   ]
  },
  {
   "cell_type": "code",
   "execution_count": 28,
   "metadata": {},
   "outputs": [],
   "source": [
    "new_active = resample(active, replace=True, n_samples=len(inactive), random_state=27) "
   ]
  },
  {
   "cell_type": "code",
   "execution_count": 29,
   "metadata": {},
   "outputs": [],
   "source": [
    "upsampled = pd.concat([inactive, new_active])"
   ]
  },
  {
   "cell_type": "code",
   "execution_count": 30,
   "metadata": {},
   "outputs": [
    {
     "data": {
      "text/plain": [
       "1    204007\n",
       "0    204007\n",
       "Name: PUBCHEM_ACTIVITY_OUTCOME, dtype: int64"
      ]
     },
     "execution_count": 30,
     "metadata": {},
     "output_type": "execute_result"
    }
   ],
   "source": [
    "upsampled['PUBCHEM_ACTIVITY_OUTCOME'].value_counts()"
   ]
  },
  {
   "cell_type": "code",
   "execution_count": 31,
   "metadata": {},
   "outputs": [
    {
     "name": "stdout",
     "output_type": "stream",
     "text": [
      "accuracy_score: 0.5353754882669095\n",
      "f1_score: 0.6970857427335044\n",
      "recall_score: 0.535398099944116\n"
     ]
    }
   ],
   "source": [
    "upsampled_pred = predict(upsampled)\n",
    "print_metrics(y_test, upsampled_pred)"
   ]
  },
  {
   "cell_type": "markdown",
   "metadata": {},
   "source": [
    "# Undersample majority class"
   ]
  },
  {
   "cell_type": "code",
   "execution_count": 32,
   "metadata": {},
   "outputs": [],
   "source": [
    "new_inactive = resample(inactive, replace=False, n_samples=len(active), random_state=27)"
   ]
  },
  {
   "cell_type": "code",
   "execution_count": 33,
   "metadata": {},
   "outputs": [],
   "source": [
    "downsampled = pd.concat([new_inactive, active])"
   ]
  },
  {
   "cell_type": "code",
   "execution_count": 34,
   "metadata": {},
   "outputs": [
    {
     "data": {
      "text/plain": [
       "1    285\n",
       "0    285\n",
       "Name: PUBCHEM_ACTIVITY_OUTCOME, dtype: int64"
      ]
     },
     "execution_count": 34,
     "metadata": {},
     "output_type": "execute_result"
    }
   ],
   "source": [
    "downsampled['PUBCHEM_ACTIVITY_OUTCOME'].value_counts()"
   ]
  },
  {
   "cell_type": "code",
   "execution_count": 35,
   "metadata": {},
   "outputs": [
    {
     "name": "stdout",
     "output_type": "stream",
     "text": [
      "accuracy_score: 0.5218361772739287\n",
      "f1_score: 0.6854581634821585\n",
      "recall_score: 0.521780052354481\n"
     ]
    }
   ],
   "source": [
    "downsampled_pred = predict(downsampled)\n",
    "print_metrics(y_test, downsampled_pred)"
   ]
  },
  {
   "cell_type": "markdown",
   "metadata": {},
   "source": [
    "# SMOTE (Synthetic Minority Oversampling Technique)"
   ]
  },
  {
   "cell_type": "code",
   "execution_count": 36,
   "metadata": {},
   "outputs": [],
   "source": [
    "from imblearn.over_sampling import SMOTE"
   ]
  },
  {
   "cell_type": "code",
   "execution_count": 37,
   "metadata": {},
   "outputs": [],
   "source": [
    "sm = SMOTE(random_state=27)\n",
    "X_train, y_train = sm.fit_sample(X_train, y_train)"
   ]
  },
  {
   "cell_type": "code",
   "execution_count": 38,
   "metadata": {},
   "outputs": [],
   "source": [
    "smote = LogisticRegression(solver='liblinear').fit(X_train, y_train)"
   ]
  },
  {
   "cell_type": "code",
   "execution_count": 39,
   "metadata": {},
   "outputs": [
    {
     "name": "stdout",
     "output_type": "stream",
     "text": [
      "accuracy_score: 0.5380774765778731\n",
      "f1_score: 0.6993826334601196\n",
      "recall_score: 0.5381187681990647\n"
     ]
    }
   ],
   "source": [
    "smote_pred = smote.predict(X_test)\n",
    "print_metrics(y_test, smote_pred)"
   ]
  },
  {
   "cell_type": "code",
   "execution_count": null,
   "metadata": {},
   "outputs": [],
   "source": []
  }
 ],
 "metadata": {
  "kernelspec": {
   "display_name": "Python 3",
   "language": "python",
   "name": "python3"
  },
  "language_info": {
   "codemirror_mode": {
    "name": "ipython",
    "version": 3
   },
   "file_extension": ".py",
   "mimetype": "text/x-python",
   "name": "python",
   "nbconvert_exporter": "python",
   "pygments_lexer": "ipython3",
   "version": "3.8.3"
  }
 },
 "nbformat": 4,
 "nbformat_minor": 4
}
