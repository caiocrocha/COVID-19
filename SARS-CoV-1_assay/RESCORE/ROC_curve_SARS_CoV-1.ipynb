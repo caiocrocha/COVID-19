{
 "cells": [
  {
   "cell_type": "code",
   "execution_count": 1,
   "metadata": {},
   "outputs": [],
   "source": [
    "import pandas as pd"
   ]
  },
  {
   "cell_type": "code",
   "execution_count": 2,
   "metadata": {},
   "outputs": [],
   "source": [
    "bioassay = pd.read_csv('../AID_1706_datatable_all.csv.gz',compression='gzip',skiprows=range(1,5))"
   ]
  },
  {
   "cell_type": "code",
   "execution_count": 4,
   "metadata": {},
   "outputs": [],
   "source": [
    "# Get what is usefull, and rename to match VS naming scheme\n",
    "df = bioassay[['PUBCHEM_SID','PUBCHEM_ACTIVITY_OUTCOME','Inhibition']]\n",
    "df.columns=['id','kind','Inhibition']"
   ]
  },
  {
   "cell_type": "code",
   "execution_count": 10,
   "metadata": {},
   "outputs": [
    {
     "name": "stderr",
     "output_type": "stream",
     "text": [
      "/home/caio/miniconda3/lib/python3.7/site-packages/IPython/core/interactiveshell.py:3072: DtypeWarning: Columns (0,1,2) have mixed types.Specify dtype option on import or set low_memory=False.\n",
      "  interactivity=interactivity, compiler=compiler, result=result)\n"
     ]
    }
   ],
   "source": [
    "# Read qvina docking scores, and fix wrong HEADER\n",
    "qvina = pd.read_csv('DockFlow_qvina.csv.gz',compression='gzip')\n",
    "qvina.columns=['id','pose','qvina']\n",
    "\n",
    "# Read Rescores.\n",
    "vina    = pd.read_csv('rescore_vina.csv.gz',compression='gzip')\n",
    "smina   = pd.read_csv('rescore_smina.csv.gz',compression='gzip')\n",
    "vinardo = pd.read_csv('rescore_vinardo.csv.gz',compression='gzip')\n",
    "\n",
    "# Read RF-ScoreVS_v2 rescore\n",
    "rfscore_vs_v2 = pd.read_csv('rfscore.csv.gz',compression='gzip')\n",
    "rfscore_vs_v2.columns=['pose','id','RFScoreVS_v2']"
   ]
  },
  {
   "cell_type": "code",
   "execution_count": 14,
   "metadata": {},
   "outputs": [],
   "source": [
    "# Concatenate all into \"data\"\n",
    "data = pd.merge(df,rfscore_vs_v2,on='id')\n",
    "data = pd.merge(data,qvina,  on=['id','pose'])\n",
    "data = pd.merge(data,vina,   on=['id','pose'])\n",
    "data = pd.merge(data,smina,  on=['id','pose'])\n",
    "data = pd.merge(data,vinardo,on=['id','pose'])"
   ]
  },
  {
   "cell_type": "code",
   "execution_count": 15,
   "metadata": {},
   "outputs": [
    {
     "data": {
      "text/html": [
       "<div>\n",
       "<style scoped>\n",
       "    .dataframe tbody tr th:only-of-type {\n",
       "        vertical-align: middle;\n",
       "    }\n",
       "\n",
       "    .dataframe tbody tr th {\n",
       "        vertical-align: top;\n",
       "    }\n",
       "\n",
       "    .dataframe thead th {\n",
       "        text-align: right;\n",
       "    }\n",
       "</style>\n",
       "<table border=\"1\" class=\"dataframe\">\n",
       "  <thead>\n",
       "    <tr style=\"text-align: right;\">\n",
       "      <th></th>\n",
       "      <th>id</th>\n",
       "      <th>kind</th>\n",
       "      <th>Inhibition</th>\n",
       "      <th>pose</th>\n",
       "      <th>RFScoreVS_v2</th>\n",
       "      <th>qvina</th>\n",
       "      <th>vina</th>\n",
       "      <th>smina</th>\n",
       "      <th>vinardo</th>\n",
       "    </tr>\n",
       "  </thead>\n",
       "  <tbody>\n",
       "    <tr>\n",
       "      <th>0</th>\n",
       "      <td>842121</td>\n",
       "      <td>Inactive</td>\n",
       "      <td>-1.55</td>\n",
       "      <td>1</td>\n",
       "      <td>5.950024</td>\n",
       "      <td>-5.6</td>\n",
       "      <td>-5.6348</td>\n",
       "      <td>-5.84857</td>\n",
       "      <td>-6.46782</td>\n",
       "    </tr>\n",
       "    <tr>\n",
       "      <th>1</th>\n",
       "      <td>842121</td>\n",
       "      <td>Inactive</td>\n",
       "      <td>-1.55</td>\n",
       "      <td>2</td>\n",
       "      <td>5.959857</td>\n",
       "      <td>-5.6</td>\n",
       "      <td>-4.91094</td>\n",
       "      <td>-5.04426</td>\n",
       "      <td>-5.03265</td>\n",
       "    </tr>\n",
       "    <tr>\n",
       "      <th>2</th>\n",
       "      <td>842121</td>\n",
       "      <td>Inactive</td>\n",
       "      <td>-1.55</td>\n",
       "      <td>3</td>\n",
       "      <td>5.962348</td>\n",
       "      <td>-5.5</td>\n",
       "      <td>-5.13135</td>\n",
       "      <td>-5.26157</td>\n",
       "      <td>-5.79712</td>\n",
       "    </tr>\n",
       "    <tr>\n",
       "      <th>3</th>\n",
       "      <td>842121</td>\n",
       "      <td>Inactive</td>\n",
       "      <td>-1.55</td>\n",
       "      <td>4</td>\n",
       "      <td>5.966875</td>\n",
       "      <td>-5.4</td>\n",
       "      <td>-5.27989</td>\n",
       "      <td>-5.44041</td>\n",
       "      <td>-6.66113</td>\n",
       "    </tr>\n",
       "    <tr>\n",
       "      <th>4</th>\n",
       "      <td>842121</td>\n",
       "      <td>Inactive</td>\n",
       "      <td>-1.55</td>\n",
       "      <td>5</td>\n",
       "      <td>5.973818</td>\n",
       "      <td>-5.4</td>\n",
       "      <td>-5.45266</td>\n",
       "      <td>-5.5867</td>\n",
       "      <td>-5.88591</td>\n",
       "    </tr>\n",
       "    <tr>\n",
       "      <th>...</th>\n",
       "      <td>...</td>\n",
       "      <td>...</td>\n",
       "      <td>...</td>\n",
       "      <td>...</td>\n",
       "      <td>...</td>\n",
       "      <td>...</td>\n",
       "      <td>...</td>\n",
       "      <td>...</td>\n",
       "      <td>...</td>\n",
       "    </tr>\n",
       "    <tr>\n",
       "      <th>547816</th>\n",
       "      <td>51090821</td>\n",
       "      <td>Inactive</td>\n",
       "      <td>0.19</td>\n",
       "      <td>6</td>\n",
       "      <td>5.955770</td>\n",
       "      <td>-6.2</td>\n",
       "      <td>-6.29844</td>\n",
       "      <td>-6.65426</td>\n",
       "      <td>-6.4851</td>\n",
       "    </tr>\n",
       "    <tr>\n",
       "      <th>547817</th>\n",
       "      <td>51090821</td>\n",
       "      <td>Inactive</td>\n",
       "      <td>0.19</td>\n",
       "      <td>7</td>\n",
       "      <td>5.955254</td>\n",
       "      <td>-5.5</td>\n",
       "      <td>-5.81293</td>\n",
       "      <td>-5.85161</td>\n",
       "      <td>-5.68095</td>\n",
       "    </tr>\n",
       "    <tr>\n",
       "      <th>547818</th>\n",
       "      <td>51090821</td>\n",
       "      <td>Inactive</td>\n",
       "      <td>0.19</td>\n",
       "      <td>8</td>\n",
       "      <td>5.964141</td>\n",
       "      <td>-5.3</td>\n",
       "      <td>-5.89117</td>\n",
       "      <td>-6.02238</td>\n",
       "      <td>-6.47135</td>\n",
       "    </tr>\n",
       "    <tr>\n",
       "      <th>547819</th>\n",
       "      <td>51090821</td>\n",
       "      <td>Inactive</td>\n",
       "      <td>0.19</td>\n",
       "      <td>9</td>\n",
       "      <td>5.951377</td>\n",
       "      <td>-5.3</td>\n",
       "      <td>-5.41285</td>\n",
       "      <td>-6.16561</td>\n",
       "      <td>-6.31044</td>\n",
       "    </tr>\n",
       "    <tr>\n",
       "      <th>547820</th>\n",
       "      <td>51090821</td>\n",
       "      <td>Inactive</td>\n",
       "      <td>0.19</td>\n",
       "      <td>10</td>\n",
       "      <td>5.955624</td>\n",
       "      <td>-5.3</td>\n",
       "      <td>-5.23568</td>\n",
       "      <td>-5.28953</td>\n",
       "      <td>-5.42199</td>\n",
       "    </tr>\n",
       "  </tbody>\n",
       "</table>\n",
       "<p>547821 rows × 9 columns</p>\n",
       "</div>"
      ],
      "text/plain": [
       "              id      kind  Inhibition pose  RFScoreVS_v2  qvina     vina  \\\n",
       "0         842121  Inactive       -1.55    1      5.950024   -5.6  -5.6348   \n",
       "1         842121  Inactive       -1.55    2      5.959857   -5.6 -4.91094   \n",
       "2         842121  Inactive       -1.55    3      5.962348   -5.5 -5.13135   \n",
       "3         842121  Inactive       -1.55    4      5.966875   -5.4 -5.27989   \n",
       "4         842121  Inactive       -1.55    5      5.973818   -5.4 -5.45266   \n",
       "...          ...       ...         ...  ...           ...    ...      ...   \n",
       "547816  51090821  Inactive        0.19    6      5.955770   -6.2 -6.29844   \n",
       "547817  51090821  Inactive        0.19    7      5.955254   -5.5 -5.81293   \n",
       "547818  51090821  Inactive        0.19    8      5.964141   -5.3 -5.89117   \n",
       "547819  51090821  Inactive        0.19    9      5.951377   -5.3 -5.41285   \n",
       "547820  51090821  Inactive        0.19   10      5.955624   -5.3 -5.23568   \n",
       "\n",
       "          smina  vinardo  \n",
       "0      -5.84857 -6.46782  \n",
       "1      -5.04426 -5.03265  \n",
       "2      -5.26157 -5.79712  \n",
       "3      -5.44041 -6.66113  \n",
       "4       -5.5867 -5.88591  \n",
       "...         ...      ...  \n",
       "547816 -6.65426  -6.4851  \n",
       "547817 -5.85161 -5.68095  \n",
       "547818 -6.02238 -6.47135  \n",
       "547819 -6.16561 -6.31044  \n",
       "547820 -5.28953 -5.42199  \n",
       "\n",
       "[547821 rows x 9 columns]"
      ]
     },
     "execution_count": 15,
     "metadata": {},
     "output_type": "execute_result"
    }
   ],
   "source": [
    "data"
   ]
  },
  {
   "cell_type": "code",
   "execution_count": 19,
   "metadata": {},
   "outputs": [
    {
     "name": "stdout",
     "output_type": "stream",
     "text": [
      "qvina: 0.405325\n",
      "vina: 0.402754\n",
      "smina: 0.401393\n",
      "vinardo: 0.405618\n",
      "RFScoreVS_v2: 0.531481\n"
     ]
    },
    {
     "data": {
      "image/png": "[encoded data removed]",
      "text/plain": [
       "<Figure size 360x360 with 1 Axes>"
      ]
     },
     "metadata": {
      "needs_background": "light"
     },
     "output_type": "display_data"
    }
   ],
   "source": [
    "from sklearn.metrics import roc_curve, auc\n",
    "import matplotlib.pyplot as plt\n",
    "\n",
    "fig, ax = plt.subplots(figsize=(5,5))\n",
    "for SF in ['qvina','vina','smina','vinardo','RFScoreVS_v2']:\n",
    "    # 1st top pose according to each scoring function\n",
    "    df = data.sort_values(SF).groupby('id').head(1)\n",
    "    fpr, tpr, _ = roc_curve(df['kind'].to_numpy(), df[SF].to_numpy(), pos_label='Active')\n",
    "    roc_auc = auc(fpr, tpr)\n",
    "    print(f'{SF}: {roc_auc:>.6f}')\n",
    "    ax.plot(fpr, tpr, label=f'{SF} = {roc_auc:>.2f}')\n",
    "\n",
    "# Plot a line\n",
    "ax.plot([0,1], [0,1], linestyle='--')\n",
    "\n",
    "# Some legends\n",
    "ax.set(xlim=[0.0,1.0], ylim=[0.0,1.05], xlabel='False Positive Rate', ylabel='True Positive Rate', title='Receiver Operating Characteristics')\n",
    "plt.legend(title='Scoring Function', loc='center left', bbox_to_anchor=(1.0, 0.5))\n",
    "plt.show()"
   ]
  },
  {
   "cell_type": "code",
   "execution_count": 39,
   "metadata": {},
   "outputs": [
    {
     "data": {
      "text/plain": [
       "<matplotlib.axes._subplots.AxesSubplot at 0x120c66590>"
      ]
     },
     "execution_count": 39,
     "metadata": {},
     "output_type": "execute_result"
    },
    {
     "data": {
      "image/png": "[encoded data removed]",
      "text/plain": [
       "<Figure size 432x288 with 1 Axes>"
      ]
     },
     "metadata": {
      "needs_background": "light"
     },
     "output_type": "display_data"
    }
   ],
   "source": [
    "# Só de curiosidade, como está a correlação com a inibição (não espere ser boa... tá um lixo.)\n",
    "\n",
    "# 1st top pose according to Qvina\n",
    "df = data.sort_values('qvina').groupby('id').head(1)\n",
    "sns.regplot(data=df.query('-10 < Inhibition < 40'),x='Inhibition',y='qvina',label=f'QVINA')"
   ]
  },
  {
   "cell_type": "code",
   "execution_count": null,
   "metadata": {},
   "outputs": [],
   "source": []
  }
 ],
 "metadata": {
  "kernelspec": {
   "display_name": "Python 3",
   "language": "python",
   "name": "python3"
  },
  "language_info": {
   "codemirror_mode": {
    "name": "ipython",
    "version": 3
   },
   "file_extension": ".py",
   "mimetype": "text/x-python",
   "name": "python",
   "nbconvert_exporter": "python",
   "pygments_lexer": "ipython3",
   "version": "3.7.7"
  }
 },
 "nbformat": 4,
 "nbformat_minor": 4
}
