{
 "cells": [
  {
   "cell_type": "code",
   "execution_count": 1,
   "metadata": {},
   "outputs": [],
   "source": [
    "import pandas as pd"
   ]
  },
  {
   "cell_type": "code",
   "execution_count": 14,
   "metadata": {},
   "outputs": [
    {
     "data": {
      "text/html": [
       "<div>\n",
       "<style scoped>\n",
       "    .dataframe tbody tr th:only-of-type {\n",
       "        vertical-align: middle;\n",
       "    }\n",
       "\n",
       "    .dataframe tbody tr th {\n",
       "        vertical-align: top;\n",
       "    }\n",
       "\n",
       "    .dataframe thead th {\n",
       "        text-align: right;\n",
       "    }\n",
       "</style>\n",
       "<table border=\"1\" class=\"dataframe\">\n",
       "  <thead>\n",
       "    <tr style=\"text-align: right;\">\n",
       "      <th></th>\n",
       "      <th>0</th>\n",
       "    </tr>\n",
       "  </thead>\n",
       "  <tbody>\n",
       "    <tr>\n",
       "      <th>pdb</th>\n",
       "      <td>crystal_redock_e32_er3_1</td>\n",
       "    </tr>\n",
       "    <tr>\n",
       "      <th>vina</th>\n",
       "      <td>-7.45693</td>\n",
       "    </tr>\n",
       "    <tr>\n",
       "      <th>vina1</th>\n",
       "      <td>27.7272</td>\n",
       "    </tr>\n",
       "    <tr>\n",
       "      <th>vina2</th>\n",
       "      <td>-104.975</td>\n",
       "    </tr>\n",
       "    <tr>\n",
       "      <th>vina3</th>\n",
       "      <td>0.05232</td>\n",
       "    </tr>\n",
       "  </tbody>\n",
       "</table>\n",
       "</div>"
      ],
      "text/plain": [
       "                              0\n",
       "pdb    crystal_redock_e32_er3_1\n",
       "vina                   -7.45693\n",
       "vina1                   27.7272\n",
       "vina2                  -104.975\n",
       "vina3                   0.05232"
      ]
     },
     "execution_count": 14,
     "metadata": {},
     "output_type": "execute_result"
    }
   ],
   "source": [
    "pd.read_csv('ligand_A_AllIntoOne/Vina58.csv').T.head()"
   ]
  },
  {
   "cell_type": "code",
   "execution_count": 3,
   "metadata": {},
   "outputs": [
    {
     "data": {
      "text/html": [
       "<div>\n",
       "<style scoped>\n",
       "    .dataframe tbody tr th:only-of-type {\n",
       "        vertical-align: middle;\n",
       "    }\n",
       "\n",
       "    .dataframe tbody tr th {\n",
       "        vertical-align: top;\n",
       "    }\n",
       "\n",
       "    .dataframe thead th {\n",
       "        text-align: right;\n",
       "    }\n",
       "</style>\n",
       "<table border=\"1\" class=\"dataframe\">\n",
       "  <thead>\n",
       "    <tr style=\"text-align: right;\">\n",
       "      <th></th>\n",
       "      <th>0</th>\n",
       "    </tr>\n",
       "  </thead>\n",
       "  <tbody>\n",
       "    <tr>\n",
       "      <th>pdb</th>\n",
       "      <td>crystal_redock_e32_er3_1</td>\n",
       "    </tr>\n",
       "    <tr>\n",
       "      <th>vina</th>\n",
       "      <td>-7.71429</td>\n",
       "    </tr>\n",
       "    <tr>\n",
       "      <th>vina1</th>\n",
       "      <td>28.1981</td>\n",
       "    </tr>\n",
       "    <tr>\n",
       "      <th>vina2</th>\n",
       "      <td>-110.127</td>\n",
       "    </tr>\n",
       "    <tr>\n",
       "      <th>vina3</th>\n",
       "      <td>0.22085</td>\n",
       "    </tr>\n",
       "  </tbody>\n",
       "</table>\n",
       "</div>"
      ],
      "text/plain": [
       "                              0\n",
       "pdb    crystal_redock_e32_er3_1\n",
       "vina                   -7.71429\n",
       "vina1                   28.1981\n",
       "vina2                  -110.127\n",
       "vina3                   0.22085"
      ]
     },
     "execution_count": 3,
     "metadata": {},
     "output_type": "execute_result"
    }
   ],
   "source": [
    "pd.read_csv('ligand_B_AllIntoOne/Vina58.csv').T.head()"
   ]
  },
  {
   "cell_type": "code",
   "execution_count": 4,
   "metadata": {},
   "outputs": [
    {
     "data": {
      "text/html": [
       "<div>\n",
       "<style scoped>\n",
       "    .dataframe tbody tr th:only-of-type {\n",
       "        vertical-align: middle;\n",
       "    }\n",
       "\n",
       "    .dataframe tbody tr th {\n",
       "        vertical-align: top;\n",
       "    }\n",
       "\n",
       "    .dataframe thead th {\n",
       "        text-align: right;\n",
       "    }\n",
       "</style>\n",
       "<table border=\"1\" class=\"dataframe\">\n",
       "  <thead>\n",
       "    <tr style=\"text-align: right;\">\n",
       "      <th></th>\n",
       "      <th>0</th>\n",
       "    </tr>\n",
       "  </thead>\n",
       "  <tbody>\n",
       "    <tr>\n",
       "      <th>pdb</th>\n",
       "      <td>crystal_redock_e32_er3_1</td>\n",
       "    </tr>\n",
       "    <tr>\n",
       "      <th>P2.P</th>\n",
       "      <td>32.35</td>\n",
       "    </tr>\n",
       "    <tr>\n",
       "      <th>P2.N</th>\n",
       "      <td>27.75</td>\n",
       "    </tr>\n",
       "    <tr>\n",
       "      <th>P2.DA</th>\n",
       "      <td>28.38</td>\n",
       "    </tr>\n",
       "    <tr>\n",
       "      <th>P2.D</th>\n",
       "      <td>76.26</td>\n",
       "    </tr>\n",
       "  </tbody>\n",
       "</table>\n",
       "</div>"
      ],
      "text/plain": [
       "                              0\n",
       "pdb    crystal_redock_e32_er3_1\n",
       "P2.P                      32.35\n",
       "P2.N                      27.75\n",
       "P2.DA                     28.38\n",
       "P2.D                      76.26"
      ]
     },
     "execution_count": 4,
     "metadata": {},
     "output_type": "execute_result"
    }
   ],
   "source": [
    "pd.read_csv('ligand_A_AllIntoOne/SASA.csv').T.head()"
   ]
  },
  {
   "cell_type": "code",
   "execution_count": 5,
   "metadata": {},
   "outputs": [
    {
     "data": {
      "text/html": [
       "<div>\n",
       "<style scoped>\n",
       "    .dataframe tbody tr th:only-of-type {\n",
       "        vertical-align: middle;\n",
       "    }\n",
       "\n",
       "    .dataframe tbody tr th {\n",
       "        vertical-align: top;\n",
       "    }\n",
       "\n",
       "    .dataframe thead th {\n",
       "        text-align: right;\n",
       "    }\n",
       "</style>\n",
       "<table border=\"1\" class=\"dataframe\">\n",
       "  <thead>\n",
       "    <tr style=\"text-align: right;\">\n",
       "      <th></th>\n",
       "      <th>0</th>\n",
       "    </tr>\n",
       "  </thead>\n",
       "  <tbody>\n",
       "    <tr>\n",
       "      <th>pdb</th>\n",
       "      <td>crystal_redock_e32_er3_1</td>\n",
       "    </tr>\n",
       "    <tr>\n",
       "      <th>P2.P</th>\n",
       "      <td>13.37</td>\n",
       "    </tr>\n",
       "    <tr>\n",
       "      <th>P2.N</th>\n",
       "      <td>27.9</td>\n",
       "    </tr>\n",
       "    <tr>\n",
       "      <th>P2.DA</th>\n",
       "      <td>22.43</td>\n",
       "    </tr>\n",
       "    <tr>\n",
       "      <th>P2.D</th>\n",
       "      <td>68.21</td>\n",
       "    </tr>\n",
       "  </tbody>\n",
       "</table>\n",
       "</div>"
      ],
      "text/plain": [
       "                              0\n",
       "pdb    crystal_redock_e32_er3_1\n",
       "P2.P                      13.37\n",
       "P2.N                       27.9\n",
       "P2.DA                     22.43\n",
       "P2.D                      68.21"
      ]
     },
     "execution_count": 5,
     "metadata": {},
     "output_type": "execute_result"
    }
   ],
   "source": [
    "pd.read_csv('ligand_B_AllIntoOne/SASA.csv').T.head()"
   ]
  },
  {
   "cell_type": "code",
   "execution_count": 6,
   "metadata": {},
   "outputs": [
    {
     "data": {
      "text/html": [
       "<div>\n",
       "<style scoped>\n",
       "    .dataframe tbody tr th:only-of-type {\n",
       "        vertical-align: middle;\n",
       "    }\n",
       "\n",
       "    .dataframe tbody tr th {\n",
       "        vertical-align: top;\n",
       "    }\n",
       "\n",
       "    .dataframe thead th {\n",
       "        text-align: right;\n",
       "    }\n",
       "</style>\n",
       "<table border=\"1\" class=\"dataframe\">\n",
       "  <thead>\n",
       "    <tr style=\"text-align: right;\">\n",
       "      <th></th>\n",
       "      <th>pdb</th>\n",
       "      <th>Ni</th>\n",
       "    </tr>\n",
       "  </thead>\n",
       "  <tbody>\n",
       "    <tr>\n",
       "      <th>0</th>\n",
       "      <td>crystal_redock_e32_er3_1</td>\n",
       "      <td>0</td>\n",
       "    </tr>\n",
       "  </tbody>\n",
       "</table>\n",
       "</div>"
      ],
      "text/plain": [
       "                        pdb  Ni\n",
       "0  crystal_redock_e32_er3_1   0"
      ]
     },
     "execution_count": 6,
     "metadata": {},
     "output_type": "execute_result"
    }
   ],
   "source": [
    "pd.read_csv('ligand_A_AllIntoOne/Num_Ions.csv')"
   ]
  },
  {
   "cell_type": "code",
   "execution_count": 7,
   "metadata": {},
   "outputs": [
    {
     "data": {
      "text/html": [
       "<div>\n",
       "<style scoped>\n",
       "    .dataframe tbody tr th:only-of-type {\n",
       "        vertical-align: middle;\n",
       "    }\n",
       "\n",
       "    .dataframe tbody tr th {\n",
       "        vertical-align: top;\n",
       "    }\n",
       "\n",
       "    .dataframe thead th {\n",
       "        text-align: right;\n",
       "    }\n",
       "</style>\n",
       "<table border=\"1\" class=\"dataframe\">\n",
       "  <thead>\n",
       "    <tr style=\"text-align: right;\">\n",
       "      <th></th>\n",
       "      <th>pdb</th>\n",
       "      <th>Ni</th>\n",
       "    </tr>\n",
       "  </thead>\n",
       "  <tbody>\n",
       "    <tr>\n",
       "      <th>0</th>\n",
       "      <td>crystal_redock_e32_er3_1</td>\n",
       "      <td>0</td>\n",
       "    </tr>\n",
       "  </tbody>\n",
       "</table>\n",
       "</div>"
      ],
      "text/plain": [
       "                        pdb  Ni\n",
       "0  crystal_redock_e32_er3_1   0"
      ]
     },
     "execution_count": 7,
     "metadata": {},
     "output_type": "execute_result"
    }
   ],
   "source": [
    "pd.read_csv('ligand_B_AllIntoOne/Num_Ions.csv')"
   ]
  },
  {
   "cell_type": "code",
   "execution_count": 8,
   "metadata": {},
   "outputs": [
    {
     "data": {
      "text/html": [
       "<div>\n",
       "<style scoped>\n",
       "    .dataframe tbody tr th:only-of-type {\n",
       "        vertical-align: middle;\n",
       "    }\n",
       "\n",
       "    .dataframe tbody tr th {\n",
       "        vertical-align: top;\n",
       "    }\n",
       "\n",
       "    .dataframe thead th {\n",
       "        text-align: right;\n",
       "    }\n",
       "</style>\n",
       "<table border=\"1\" class=\"dataframe\">\n",
       "  <thead>\n",
       "    <tr style=\"text-align: right;\">\n",
       "      <th></th>\n",
       "      <th>pdb</th>\n",
       "      <th>dE_global</th>\n",
       "      <th>RMSD_global</th>\n",
       "    </tr>\n",
       "  </thead>\n",
       "  <tbody>\n",
       "    <tr>\n",
       "      <th>0</th>\n",
       "      <td>crystal_redock_e32_er3_1</td>\n",
       "      <td>-15.116223</td>\n",
       "      <td>5.0292</td>\n",
       "    </tr>\n",
       "  </tbody>\n",
       "</table>\n",
       "</div>"
      ],
      "text/plain": [
       "                        pdb  dE_global  RMSD_global\n",
       "0  crystal_redock_e32_er3_1 -15.116223       5.0292"
      ]
     },
     "execution_count": 8,
     "metadata": {},
     "output_type": "execute_result"
    }
   ],
   "source": [
    "pd.read_csv('ligand_A_AllIntoOne/dE_RMSD.csv')"
   ]
  },
  {
   "cell_type": "code",
   "execution_count": 9,
   "metadata": {},
   "outputs": [
    {
     "data": {
      "text/html": [
       "<div>\n",
       "<style scoped>\n",
       "    .dataframe tbody tr th:only-of-type {\n",
       "        vertical-align: middle;\n",
       "    }\n",
       "\n",
       "    .dataframe tbody tr th {\n",
       "        vertical-align: top;\n",
       "    }\n",
       "\n",
       "    .dataframe thead th {\n",
       "        text-align: right;\n",
       "    }\n",
       "</style>\n",
       "<table border=\"1\" class=\"dataframe\">\n",
       "  <thead>\n",
       "    <tr style=\"text-align: right;\">\n",
       "      <th></th>\n",
       "      <th>pdb</th>\n",
       "      <th>dE_global</th>\n",
       "      <th>RMSD_global</th>\n",
       "    </tr>\n",
       "  </thead>\n",
       "  <tbody>\n",
       "    <tr>\n",
       "      <th>0</th>\n",
       "      <td>crystal_redock_e32_er3_1</td>\n",
       "      <td>-13.021231</td>\n",
       "      <td>4.741351</td>\n",
       "    </tr>\n",
       "  </tbody>\n",
       "</table>\n",
       "</div>"
      ],
      "text/plain": [
       "                        pdb  dE_global  RMSD_global\n",
       "0  crystal_redock_e32_er3_1 -13.021231     4.741351"
      ]
     },
     "execution_count": 9,
     "metadata": {},
     "output_type": "execute_result"
    }
   ],
   "source": [
    "pd.read_csv('ligand_B_AllIntoOne/dE_RMSD.csv')"
   ]
  },
  {
   "cell_type": "code",
   "execution_count": 10,
   "metadata": {},
   "outputs": [
    {
     "data": {
      "text/html": [
       "<div>\n",
       "<style scoped>\n",
       "    .dataframe tbody tr th:only-of-type {\n",
       "        vertical-align: middle;\n",
       "    }\n",
       "\n",
       "    .dataframe tbody tr th {\n",
       "        vertical-align: top;\n",
       "    }\n",
       "\n",
       "    .dataframe thead th {\n",
       "        text-align: right;\n",
       "    }\n",
       "</style>\n",
       "<table border=\"1\" class=\"dataframe\">\n",
       "  <thead>\n",
       "    <tr style=\"text-align: right;\">\n",
       "      <th></th>\n",
       "      <th>pdb</th>\n",
       "      <th>vina</th>\n",
       "      <th>vina1</th>\n",
       "      <th>vina2</th>\n",
       "      <th>vina3</th>\n",
       "      <th>vina4</th>\n",
       "      <th>vina5</th>\n",
       "      <th>vina6</th>\n",
       "      <th>vina7</th>\n",
       "      <th>vina8</th>\n",
       "      <th>...</th>\n",
       "      <th>P2dp.H</th>\n",
       "      <th>P2dp.PL</th>\n",
       "      <th>P2dp.HA</th>\n",
       "      <th>P2dp.SA</th>\n",
       "      <th>dE_global</th>\n",
       "      <th>RMSD_global</th>\n",
       "      <th>Nbw</th>\n",
       "      <th>Epw</th>\n",
       "      <th>Elw</th>\n",
       "      <th>Ni</th>\n",
       "    </tr>\n",
       "  </thead>\n",
       "  <tbody>\n",
       "    <tr>\n",
       "      <th>0</th>\n",
       "      <td>crystal_redock_e32_er3_1</td>\n",
       "      <td>5.469584</td>\n",
       "      <td>27.72718</td>\n",
       "      <td>-104.97514</td>\n",
       "      <td>0.05232</td>\n",
       "      <td>0.02067</td>\n",
       "      <td>83.51045</td>\n",
       "      <td>120.92795</td>\n",
       "      <td>172.30549</td>\n",
       "      <td>246.43883</td>\n",
       "      <td>...</td>\n",
       "      <td>130.74</td>\n",
       "      <td>129.42</td>\n",
       "      <td>0</td>\n",
       "      <td>529.47</td>\n",
       "      <td>-15.116223</td>\n",
       "      <td>5.0292</td>\n",
       "      <td>0</td>\n",
       "      <td>0</td>\n",
       "      <td>0</td>\n",
       "      <td>0</td>\n",
       "    </tr>\n",
       "  </tbody>\n",
       "</table>\n",
       "<p>1 rows × 96 columns</p>\n",
       "</div>"
      ],
      "text/plain": [
       "                        pdb      vina     vina1      vina2    vina3    vina4  \\\n",
       "0  crystal_redock_e32_er3_1  5.469584  27.72718 -104.97514  0.05232  0.02067   \n",
       "\n",
       "      vina5      vina6      vina7      vina8  ...  P2dp.H  P2dp.PL  P2dp.HA  \\\n",
       "0  83.51045  120.92795  172.30549  246.43883  ...  130.74   129.42        0   \n",
       "\n",
       "   P2dp.SA  dE_global  RMSD_global  Nbw  Epw  Elw  Ni  \n",
       "0   529.47 -15.116223       5.0292    0    0    0   0  \n",
       "\n",
       "[1 rows x 96 columns]"
      ]
     },
     "execution_count": 10,
     "metadata": {},
     "output_type": "execute_result"
    }
   ],
   "source": [
    "pd.read_csv('ligand_A_AllIntoOne/Input.csv')"
   ]
  },
  {
   "cell_type": "code",
   "execution_count": 11,
   "metadata": {},
   "outputs": [
    {
     "data": {
      "text/html": [
       "<div>\n",
       "<style scoped>\n",
       "    .dataframe tbody tr th:only-of-type {\n",
       "        vertical-align: middle;\n",
       "    }\n",
       "\n",
       "    .dataframe tbody tr th {\n",
       "        vertical-align: top;\n",
       "    }\n",
       "\n",
       "    .dataframe thead th {\n",
       "        text-align: right;\n",
       "    }\n",
       "</style>\n",
       "<table border=\"1\" class=\"dataframe\">\n",
       "  <thead>\n",
       "    <tr style=\"text-align: right;\">\n",
       "      <th></th>\n",
       "      <th>pdb</th>\n",
       "      <th>vina</th>\n",
       "      <th>vina1</th>\n",
       "      <th>vina2</th>\n",
       "      <th>vina3</th>\n",
       "      <th>vina4</th>\n",
       "      <th>vina5</th>\n",
       "      <th>vina6</th>\n",
       "      <th>vina7</th>\n",
       "      <th>vina8</th>\n",
       "      <th>...</th>\n",
       "      <th>P2dp.H</th>\n",
       "      <th>P2dp.PL</th>\n",
       "      <th>P2dp.HA</th>\n",
       "      <th>P2dp.SA</th>\n",
       "      <th>dE_global</th>\n",
       "      <th>RMSD_global</th>\n",
       "      <th>Nbw</th>\n",
       "      <th>Epw</th>\n",
       "      <th>Elw</th>\n",
       "      <th>Ni</th>\n",
       "    </tr>\n",
       "  </thead>\n",
       "  <tbody>\n",
       "    <tr>\n",
       "      <th>0</th>\n",
       "      <td>crystal_redock_e32_er3_1</td>\n",
       "      <td>5.658355</td>\n",
       "      <td>28.19808</td>\n",
       "      <td>-110.12728</td>\n",
       "      <td>0.22085</td>\n",
       "      <td>0.04722</td>\n",
       "      <td>94.23803</td>\n",
       "      <td>135.22337</td>\n",
       "      <td>186.46564</td>\n",
       "      <td>241.34423</td>\n",
       "      <td>...</td>\n",
       "      <td>117.22</td>\n",
       "      <td>125.93</td>\n",
       "      <td>0</td>\n",
       "      <td>517.15</td>\n",
       "      <td>-13.021231</td>\n",
       "      <td>4.741351</td>\n",
       "      <td>0</td>\n",
       "      <td>0</td>\n",
       "      <td>0</td>\n",
       "      <td>0</td>\n",
       "    </tr>\n",
       "  </tbody>\n",
       "</table>\n",
       "<p>1 rows × 96 columns</p>\n",
       "</div>"
      ],
      "text/plain": [
       "                        pdb      vina     vina1      vina2    vina3    vina4  \\\n",
       "0  crystal_redock_e32_er3_1  5.658355  28.19808 -110.12728  0.22085  0.04722   \n",
       "\n",
       "      vina5      vina6      vina7      vina8  ...  P2dp.H  P2dp.PL  P2dp.HA  \\\n",
       "0  94.23803  135.22337  186.46564  241.34423  ...  117.22   125.93        0   \n",
       "\n",
       "   P2dp.SA  dE_global  RMSD_global  Nbw  Epw  Elw  Ni  \n",
       "0   517.15 -13.021231     4.741351    0    0    0   0  \n",
       "\n",
       "[1 rows x 96 columns]"
      ]
     },
     "execution_count": 11,
     "metadata": {},
     "output_type": "execute_result"
    }
   ],
   "source": [
    "pd.read_csv('ligand_B_AllIntoOne/Input.csv')"
   ]
  },
  {
   "cell_type": "code",
   "execution_count": null,
   "metadata": {},
   "outputs": [],
   "source": []
  }
 ],
 "metadata": {
  "kernelspec": {
   "display_name": "Python 3",
   "language": "python",
   "name": "python3"
  },
  "language_info": {
   "codemirror_mode": {
    "name": "ipython",
    "version": 3
   },
   "file_extension": ".py",
   "mimetype": "text/x-python",
   "name": "python",
   "nbconvert_exporter": "python",
   "pygments_lexer": "ipython3",
   "version": "3.7.4"
  }
 },
 "nbformat": 4,
 "nbformat_minor": 4
}
